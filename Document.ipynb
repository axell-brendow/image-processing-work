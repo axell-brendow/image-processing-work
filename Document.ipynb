{
 "cells": [
  {
   "cell_type": "markdown",
   "metadata": {
    "slideshow": {
     "slide_type": "slide"
    }
   },
   "source": [
    "## Reconhecimento de padrões por textura em imagens mamográficas\n",
    "Pontificia Universidade Catolica de Minas Gerais\n",
    "\n",
    "Axell Brendow\n",
    "\n",
    "Raiana Pereira\n",
    "\n",
    "\n",
    "Codigo disponivel em:\n",
    "https://github.com/axell-brendow/image-processing-work.git"
   ]
  },
  {
   "cell_type": "markdown",
   "metadata": {},
   "source": [
    "### Descrição do problema\n",
    "A  densidade  da  mama  é  comprovadamente  relacionada  com  o  risco  do  desenvolvimento  de  câncer, uma vez que  mulheres com uma maior densidade mamária podem esconder lesões, levando o câncer a  ser  detectado  tardiamente.  A  escala  de  densidade  chamada  BIRADS  foi  desenvolvida  pelo American  College  of  Radiology  e  informa  os  radiologistas  sobre  a  diminuição  da  sensibilidade  do exame  com  o  aumento  da  densidade  da  mama.  BI-RADS  definem  a  densidade  como  sendo  quase inteiramente composta por gordura (densidade I), por tecido fibrobroglandular difuso (densidade II), por tecido denso heterogêneo (III) e por tecido extremamente denso (IV). A mamografia é a principal ferramenta  de  rastreio  do  câncer  e  radiologistas  avaliam  a  densidade  da  mama  com  base  na  análise visual das imagens.\n",
    "\n",
    "Sendo assim, o principal problema é analisar a densidade da mama para detecção ou não do cancêr."
   ]
  },
  {
   "cell_type": "markdown",
   "metadata": {},
   "source": [
    "### Motivação e objetivos do trabalho\n",
    "O objetivo do trabalho é implementar um aplicativo que leia imagens de exames mamográficos e possibilite o reconhecimento automático da densidade da mama, utilizando técnicas de descrição por textura."
   ]
  },
  {
   "cell_type": "markdown",
   "metadata": {},
   "source": [
    "### Descrição das técnicas implementadas para a solução, principalmente do classificador\n",
    "O classificador escolhido para o trabalho é uma rede neural completamente conectada.\n",
    "\n",
    "A primeira camada da rede neural tem 128 neurônios e usa a função de ativação retificadora (https://en.wikipedia.org/wiki/Rectifier_(neural_networks)).\n",
    "\n",
    "A segunda e última camada da rede neural tem 4 neurônios que correspondem às 4 classes BIRADS.\n",
    "\n",
    "O otimizador da rede neural usa o algoritmo de Adam e a métrica extraída é a acurácia.\n",
    "\n",
    "As imagens podem ser descritas por todos os 13 primeiros descritores do artigo \"Textural Features for Image Classification\" mais os 7 momentos invariantes de Hu:\n",
    "\n",
    "- Energia\n",
    "- Contraste\n",
    "- Correlação\n",
    "- Variância\n",
    "- Homogeneidade\n",
    "- Soma média\n",
    "- Soma da variância\n",
    "- Soma da entropia\n",
    "- Entropia\n",
    "- Diferença da variância\n",
    "- Diferença da entropia\n",
    "- Medida de informação de correlação 12\n",
    "- Medida de informação de correlação 13\n",
    "- Todos os 7 momentos invariantes de Hu\n",
    "\n",
    "No treinamento, a rede neural recebe um vetor onde cada posição contém o vetor de descritores de uma imagem e consequentemente o classificador também recebe um vetor com as classes esperadas para aquele vetor de descritores. No teste, o funcionamento é igual porém são passados menos dados para avaliação."
   ]
  },
  {
   "cell_type": "markdown",
   "metadata": {},
   "source": [
    "### Referências das bibliotecas utilizadas e instruções para instalação\n",
    "\n",
    "\n",
    "Lista das bibliotecas ultilizadas:\n",
    "\n",
    "- autopep8==1.5.4\n",
    "- mahotas==1.4.11\n",
    "- matplotlib==3.3.3\n",
    "- numpy==1.19.2\n",
    "- pycodestyle==2.6.0\n",
    "- pydicom==2.0.0\n",
    "- opencv-python==4.4.0.44\n",
    "- Pillow==7.2.0\n",
    "- tensorflow==2.3.1\n",
    "\n",
    "Para instalar , compilar e executar as bibliotecas é necessário que a versão do python seja menor ou igual a 3.8.\n",
    "\n",
    "Abra a pasta onde está o projeto como tambem o arquivo main.py e execute as seguintes instruções no terminal:\n",
    "- python3 -m pip install --upgrade pip\n",
    "- python3 -m pip install -r requirements.txt\n",
    "- python3 main.py\n",
    "\n",
    "Ao executar o arquivo **requirements.txt** será feita a instalação de todas as bilbiotecas usadas no projeto."
   ]
  },
  {
   "cell_type": "markdown",
   "metadata": {},
   "source": [
    "### Medidas  de  tempo  de  execução  para  diversas  imagens,  descritores  e  hiperparâmetros  do classificador\n",
    "\n",
    "Ao treinar as imagens do diretorio 4 obteu-se as seguintes metricas:\n",
    "\n",
    "![](https://github.com/axell-brendow/image-processing-work/blob/main/assets/metrics.PNG?raw=true)\n",
    "\n",
    "\n",
    " Matriz de confusão gerada:\n",
    " \n",
    "![](https://github.com/axell-brendow/image-processing-work/blob/main/assets/image1.png?raw=true)\n",
    "\n",
    "\n"
   ]
  },
  {
   "cell_type": "markdown",
   "metadata": {
    "slideshow": {
     "slide_type": "slide"
    }
   },
   "source": [
    "## Referências Bibliograficas\n",
    "\n",
    "**Move and zoom a tkinter canvas with mouse**. stackoverflow, 2020. Disponível em: https://stackoverflow.com/questions/25787523/move-and-zoom-a-tkinter-canvas-with-mouse/48069295#48069295. Acesso em: 20, Novembro de 2020.\n",
    "\n",
    "**Tkinter canvas zoom move pan**. stackoverflow, 2020. Disponível em: - https://stackoverflow.com/questions/41656176/tkinter-canvas-zoom-move-pan/48137257#48137257. Acesso em: 20, Novembro de 2020.\n",
    "\n",
    "**Textural Features for Image Classification**. ieeexplore, 2020. Disponível em: - https://ieeexplore.ieee.org/document/4309314. Acesso em: 20, Novembro de 2020.\n",
    "\n",
    "**How-can-i-convert-an-rgb-image-into-grayscale-in-python**. stackoverflow, 2020. Disponível em: - - https://stackoverflow.com/questions/12201577/how-can-i-convert-an-rgb-image-into-grayscale-in-python. Acesso em: 20, Novembro de 2020.\n",
    "\n",
    "**Opencv-shape-descriptor-hu-moments-example**. pyimagesearch, 2020. Disponível em: - https://www.pyimagesearch.com/2014/10/27/opencv-shape-descriptor-hu-moments-example/. Acesso em: 20, Novembro de 2020.\n",
    "\n",
    "**Texture Recognition using Haralick Texture and Python**. gogul, 2020. Disponível em: - https://gogul.dev/software/texture-recognition. Acesso em: 20, Novembro de 2020.\n",
    "\n",
    "**Tensorflow Image Classification | Build Your Own Image Classifier In Tensorflow | Edureka**. youtube, 2020. Disponível em: - https://www.youtube.com/watch?v=AACPaoDsd50&ab_channel=edureka%21. Acesso em: 20, Novembro de 2020.\n",
    "\n",
    "**Treine sua primeira rede neural: classificação básica**. tensorflow, 2020. Disponível em: - https://www.tensorflow.org/tutorials/keras/classification?hl=pt-br#fa%C3%A7a_predi%C3%A7%C3%B5es. Acesso em: 20, Novembro de 2020.\n",
    "\n",
    "**Confusion Matrix for Your Multi-Class Machine Learning Model**. towardsdatascience, 2020. Disponível em: - https://towardsdatascience.com/confusion-matrix-for-your-multi-class-machine-learning-model-ff9aa3bf7826. Acesso em: 20, Novembro de 2020.\n",
    "\n",
    "**Scikit-learn: How to obtain True Positive, True Negative, False Positive and False Negative**. stackoverflow, 2020. Disponível em: - https://stackoverflow.com/questions/31324218/scikit-learn-how-to-obtain-true-positive-true-negative-false-positive-and-fal. Acesso em: 20, Novembro de 2020."
   ]
  }
 ],
 "metadata": {
  "kernelspec": {
   "display_name": "Python 3",
   "language": "python",
   "name": "python3"
  },
  "language_info": {
   "codemirror_mode": {
    "name": "ipython",
    "version": 3
   },
   "file_extension": ".py",
   "mimetype": "text/x-python",
   "name": "python",
   "nbconvert_exporter": "python",
   "pygments_lexer": "ipython3",
   "version": "3.8.3"
  }
 },
 "nbformat": 4,
 "nbformat_minor": 4
}
